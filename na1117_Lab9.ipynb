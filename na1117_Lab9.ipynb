{
  "cells": [
    {
      "cell_type": "markdown",
      "metadata": {
        "id": "gs_wOGI5yU1w"
      },
      "source": [
        "# OPAN5510 Lab Assignment - Joins\n",
        "\n",
        "This lab focuses on using Polars to perform data joins and aggregations to answer business questions."
      ]
    },
    {
      "cell_type": "markdown",
      "metadata": {
        "id": "1RC5vZJsyU1x"
      },
      "source": [
        "# Bike Trips Dataset\n",
        "\n",
        "## Prerequisites\n",
        "\n",
        "For this assignment, you'll need to use Polars for data manipulation.\n",
        "\n",
        "*Insert a code block to import necessary packages (polars)*"
      ]
    },
    {
      "cell_type": "code",
      "execution_count": 1,
      "metadata": {
        "id": "U6sEu6oqyU1x"
      },
      "outputs": [],
      "source": [
        "# Import necessary packages\n",
        "import polars as pl"
      ]
    },
    {
      "cell_type": "markdown",
      "metadata": {
        "id": "BcAhQENByU1x"
      },
      "source": [
        "## Load Datasets\n",
        "\n",
        "Load the `bike_trips.csv` and `bike_weather.csv` files into Polars DataFrames called `trips` and `weather`, respectively.\n",
        "\n",
        "*Insert code block that reads these files into Polars DataFrames*"
      ]
    },
    {
      "cell_type": "code",
      "execution_count": 2,
      "metadata": {
        "colab": {
          "base_uri": "https://localhost:8080/"
        },
        "id": "O1NJ_d1SyU1x",
        "outputId": "b6da1ddc-ef08-4ef0-ed2f-1b05a85726f9"
      },
      "outputs": [
        {
          "output_type": "stream",
          "name": "stdout",
          "text": [
            "78704\n",
            "733\n"
          ]
        }
      ],
      "source": [
        "# Load the bike trips and weather data\n",
        "trips = pl.read_csv(\"https://raw.githubusercontent.com/philhetzel/opan5510-class9/refs/heads/main/data/bike_trips.csv\", null_values='NA')\n",
        "weather = pl.read_csv(\"https://raw.githubusercontent.com/philhetzel/opan5510-class9/refs/heads/main/data/bike_weather.csv\", null_values=['NA',''])\n",
        "\n",
        "trips = trips.with_columns(pl.col(\"date\").str.strptime(pl.Date, \"%Y-%m-%d\").alias(\"date\")) # ensure date column is typed correctly\n",
        "weather = weather.with_columns(pl.col(\"date\").str.strptime(pl.Date, \"%Y-%m-%d\").alias(\"date\")) # ensure date column is typed correctly\n",
        "print(trips.height)\n",
        "print(weather.height)"
      ]
    },
    {
      "cell_type": "markdown",
      "metadata": {
        "id": "R04JtG9EyU1x"
      },
      "source": [
        "## Business Question 1: What was the average `duration` of trips that occurred in rainy weather?\n",
        "\n",
        "#### Part A: Join the trips and weather data frames\n",
        "\n",
        "The `trips` data represent every ride taken for a bike share company. The `weather` data represent the prevailing weather for a particular day. Join the `trips` and `weather` data together using the `date` column. Name the resulting DataFrame `trips_weather`.\n",
        "\n",
        "*Insert a code block below that joins `trips` to `weather` using the `date` column.*"
      ]
    },
    {
      "cell_type": "code",
      "execution_count": 3,
      "metadata": {
        "id": "LMuv46gAyU1y",
        "colab": {
          "base_uri": "https://localhost:8080/",
          "height": 362
        },
        "outputId": "0d541224-34dd-4a43-db10-7419431e73cc"
      },
      "outputs": [
        {
          "output_type": "execute_result",
          "data": {
            "text/plain": [
              "shape: (5, 35)\n",
              "┌──────┬──────────┬─────────────┬─────────────┬───┬─────────────┬────────┬────────────┬────────────┐\n",
              "│ id   ┆ duration ┆ start_date  ┆ start_stati ┆ … ┆ cloud_cover ┆ events ┆ wind_dir_d ┆ zip_code_r │\n",
              "│ ---  ┆ ---      ┆ ---         ┆ on_name     ┆   ┆ ---         ┆ ---    ┆ egrees     ┆ ight       │\n",
              "│ i64  ┆ i64      ┆ str         ┆ ---         ┆   ┆ i64         ┆ str    ┆ ---        ┆ ---        │\n",
              "│      ┆          ┆             ┆ str         ┆   ┆             ┆        ┆ i64        ┆ i64        │\n",
              "╞══════╪══════════╪═════════════╪═════════════╪═══╪═════════════╪════════╪════════════╪════════════╡\n",
              "│ 4721 ┆ 3        ┆ 2013-08-29T ┆ Market at   ┆ … ┆ 4           ┆ null   ┆ 286        ┆ 94107      │\n",
              "│      ┆          ┆ 20:27:00Z   ┆ 10th        ┆   ┆             ┆        ┆            ┆            │\n",
              "│ 4812 ┆ 3        ┆ 2013-08-29T ┆ 2nd at      ┆ … ┆ 4           ┆ null   ┆ 286        ┆ 94107      │\n",
              "│      ┆          ┆ 21:30:00Z   ┆ Folsom      ┆   ┆             ┆        ┆            ┆            │\n",
              "│ 4705 ┆ 3        ┆ 2013-08-29T ┆ Golden Gate ┆ … ┆ 4           ┆ null   ┆ 286        ┆ 94107      │\n",
              "│      ┆          ┆ 20:15:00Z   ┆ at Polk     ┆   ┆             ┆        ┆            ┆            │\n",
              "│ 4841 ┆ 3        ┆ 2013-08-29T ┆ University  ┆ … ┆ 4           ┆ null   ┆ 286        ┆ 94107      │\n",
              "│      ┆          ┆ 21:48:00Z   ┆ and Emerson ┆   ┆             ┆        ┆            ┆            │\n",
              "│ 4668 ┆ 4        ┆ 2013-08-29T ┆ San         ┆ … ┆ 4           ┆ null   ┆ 286        ┆ 94107      │\n",
              "│      ┆          ┆ 19:39:00Z   ┆ Francisco   ┆   ┆             ┆        ┆            ┆            │\n",
              "│      ┆          ┆             ┆ Caltrain 2  ┆   ┆             ┆        ┆            ┆            │\n",
              "│      ┆          ┆             ┆ (330 …      ┆   ┆             ┆        ┆            ┆            │\n",
              "└──────┴──────────┴─────────────┴─────────────┴───┴─────────────┴────────┴────────────┴────────────┘"
            ],
            "text/html": [
              "<div><style>\n",
              ".dataframe > thead > tr,\n",
              ".dataframe > tbody > tr {\n",
              "  text-align: right;\n",
              "  white-space: pre-wrap;\n",
              "}\n",
              "</style>\n",
              "<small>shape: (5, 35)</small><table border=\"1\" class=\"dataframe\"><thead><tr><th>id</th><th>duration</th><th>start_date</th><th>start_station_name</th><th>start_station_id</th><th>end_date</th><th>end_station_name</th><th>end_station_id</th><th>bike_id</th><th>subscription_type</th><th>zip_code</th><th>date</th><th>max_temperature_f</th><th>mean_temperature_f</th><th>min_temperature_f</th><th>max_dew_point_f</th><th>mean_dew_point_f</th><th>min_dew_point_f</th><th>max_humidity</th><th>mean_humidity</th><th>min_humidity</th><th>max_sea_level_pressure_inches</th><th>mean_sea_level_pressure_inches</th><th>min_sea_level_pressure_inches</th><th>max_visibility_miles</th><th>mean_visibility_miles</th><th>min_visibility_miles</th><th>max_wind_Speed_mph</th><th>mean_wind_speed_mph</th><th>max_gust_speed_mph</th><th>precipitation_inches</th><th>cloud_cover</th><th>events</th><th>wind_dir_degrees</th><th>zip_code_right</th></tr><tr><td>i64</td><td>i64</td><td>str</td><td>str</td><td>i64</td><td>str</td><td>str</td><td>i64</td><td>i64</td><td>str</td><td>i64</td><td>date</td><td>i64</td><td>i64</td><td>i64</td><td>i64</td><td>i64</td><td>i64</td><td>i64</td><td>i64</td><td>i64</td><td>f64</td><td>f64</td><td>f64</td><td>i64</td><td>i64</td><td>i64</td><td>i64</td><td>i64</td><td>i64</td><td>str</td><td>i64</td><td>str</td><td>i64</td><td>i64</td></tr></thead><tbody><tr><td>4721</td><td>3</td><td>&quot;2013-08-29T20:27:00Z&quot;</td><td>&quot;Market at 10th&quot;</td><td>67</td><td>&quot;2013-08-29T20:30:00Z&quot;</td><td>&quot;South Van Ness at Market&quot;</td><td>66</td><td>416</td><td>&quot;Subscriber&quot;</td><td>94107</td><td>2013-08-29</td><td>74</td><td>68</td><td>61</td><td>61</td><td>58</td><td>56</td><td>93</td><td>75</td><td>57</td><td>30.07</td><td>30.02</td><td>29.97</td><td>10</td><td>10</td><td>10</td><td>23</td><td>11</td><td>28</td><td>&quot;0&quot;</td><td>4</td><td>null</td><td>286</td><td>94107</td></tr><tr><td>4812</td><td>3</td><td>&quot;2013-08-29T21:30:00Z&quot;</td><td>&quot;2nd at Folsom&quot;</td><td>62</td><td>&quot;2013-08-29T21:33:00Z&quot;</td><td>&quot;2nd at Folsom&quot;</td><td>62</td><td>409</td><td>&quot;Subscriber&quot;</td><td>94107</td><td>2013-08-29</td><td>74</td><td>68</td><td>61</td><td>61</td><td>58</td><td>56</td><td>93</td><td>75</td><td>57</td><td>30.07</td><td>30.02</td><td>29.97</td><td>10</td><td>10</td><td>10</td><td>23</td><td>11</td><td>28</td><td>&quot;0&quot;</td><td>4</td><td>null</td><td>286</td><td>94107</td></tr><tr><td>4705</td><td>3</td><td>&quot;2013-08-29T20:15:00Z&quot;</td><td>&quot;Golden Gate at Polk&quot;</td><td>59</td><td>&quot;2013-08-29T20:18:00Z&quot;</td><td>&quot;San Francisco City Hall&quot;</td><td>58</td><td>519</td><td>&quot;Subscriber&quot;</td><td>94107</td><td>2013-08-29</td><td>74</td><td>68</td><td>61</td><td>61</td><td>58</td><td>56</td><td>93</td><td>75</td><td>57</td><td>30.07</td><td>30.02</td><td>29.97</td><td>10</td><td>10</td><td>10</td><td>23</td><td>11</td><td>28</td><td>&quot;0&quot;</td><td>4</td><td>null</td><td>286</td><td>94107</td></tr><tr><td>4841</td><td>3</td><td>&quot;2013-08-29T21:48:00Z&quot;</td><td>&quot;University and Emerson&quot;</td><td>35</td><td>&quot;2013-08-29T21:51:00Z&quot;</td><td>&quot;Cowper at University&quot;</td><td>37</td><td>83</td><td>&quot;Subscriber&quot;</td><td>94107</td><td>2013-08-29</td><td>74</td><td>68</td><td>61</td><td>61</td><td>58</td><td>56</td><td>93</td><td>75</td><td>57</td><td>30.07</td><td>30.02</td><td>29.97</td><td>10</td><td>10</td><td>10</td><td>23</td><td>11</td><td>28</td><td>&quot;0&quot;</td><td>4</td><td>null</td><td>286</td><td>94107</td></tr><tr><td>4668</td><td>4</td><td>&quot;2013-08-29T19:39:00Z&quot;</td><td>&quot;San Francisco Caltrain 2 (330 …</td><td>69</td><td>&quot;2013-08-29T19:43:00Z&quot;</td><td>&quot;Townsend at 7th&quot;</td><td>65</td><td>489</td><td>&quot;Subscriber&quot;</td><td>94107</td><td>2013-08-29</td><td>74</td><td>68</td><td>61</td><td>61</td><td>58</td><td>56</td><td>93</td><td>75</td><td>57</td><td>30.07</td><td>30.02</td><td>29.97</td><td>10</td><td>10</td><td>10</td><td>23</td><td>11</td><td>28</td><td>&quot;0&quot;</td><td>4</td><td>null</td><td>286</td><td>94107</td></tr></tbody></table></div>"
            ]
          },
          "metadata": {},
          "execution_count": 3
        }
      ],
      "source": [
        "# Join trips and weather data\n",
        "trips_weather = trips.join(weather, on=\"date\", how=\"left\")\n",
        "trips_weather.head()"
      ]
    },
    {
      "cell_type": "markdown",
      "metadata": {
        "id": "jAmIh2v9yU1y"
      },
      "source": [
        "#### Part B: Calculate the average `duration` of trips in poor weather\n",
        "\n",
        "Using the `trips_weather` DataFrame, compute the average trip `duration` for days that had weather `events` (i.e. anytime a day had an event of anything but `null`). Name the column for average `duration`: `avg_duration`. The resulting DataFrame should have one row and be named `avg_bad_weather`.\n",
        "\n",
        "*Insert a code block that shows the computation of the average trip duration for days that had a weather event.*"
      ]
    },
    {
      "cell_type": "code",
      "execution_count": 4,
      "metadata": {
        "id": "GfK-KPe2yU1y",
        "colab": {
          "base_uri": "https://localhost:8080/",
          "height": 129
        },
        "outputId": "bf6cc30a-5667-4334-f25e-db52b314c6d3"
      },
      "outputs": [
        {
          "output_type": "execute_result",
          "data": {
            "text/plain": [
              "shape: (1, 1)\n",
              "┌──────────────┐\n",
              "│ avg_duration │\n",
              "│ ---          │\n",
              "│ f64          │\n",
              "╞══════════════╡\n",
              "│ 10.34899     │\n",
              "└──────────────┘"
            ],
            "text/html": [
              "<div><style>\n",
              ".dataframe > thead > tr,\n",
              ".dataframe > tbody > tr {\n",
              "  text-align: right;\n",
              "  white-space: pre-wrap;\n",
              "}\n",
              "</style>\n",
              "<small>shape: (1, 1)</small><table border=\"1\" class=\"dataframe\"><thead><tr><th>avg_duration</th></tr><tr><td>f64</td></tr></thead><tbody><tr><td>10.34899</td></tr></tbody></table></div>"
            ]
          },
          "metadata": {},
          "execution_count": 4
        }
      ],
      "source": [
        "# Calculate average duration for trips with weather events\n",
        "avg_bad_weather = (\n",
        "    trips_weather\n",
        "    .filter(pl.col(\"events\").is_not_null() & (pl.col(\"events\").cast(pl.Utf8).str.strip_chars() != \"\"))\n",
        "    .select(pl.col(\"duration\").mean().alias(\"avg_duration\"))\n",
        ")\n",
        "\n",
        "avg_bad_weather"
      ]
    },
    {
      "cell_type": "markdown",
      "metadata": {
        "id": "r1HZVy2qyU1y"
      },
      "source": [
        "# Baseball Dataset\n",
        "\n",
        "## Load Data\n",
        "\n",
        "Load the `Batting.csv`, `People.csv`, and `HallOfFame.csv` datasets into Polars DataFrames.\n",
        "\n",
        "*Insert a code block to load your datasets*"
      ]
    },
    {
      "cell_type": "code",
      "execution_count": 7,
      "metadata": {
        "id": "qrZO72DTyU1y"
      },
      "outputs": [],
      "source": [
        "# Load baseball datasets\n",
        "Batting = pl.read_csv(\"https://raw.githubusercontent.com/philhetzel/opan5510-class9/refs/heads/main/data/Batting.csv\", null_values='NA')\n",
        "People = pl.read_csv(\"https://raw.githubusercontent.com/philhetzel/opan5510-class9/refs/heads/main/data/People.csv\", null_values='NA')\n",
        "HallOfFame = pl.read_csv(\"https://raw.githubusercontent.com/philhetzel/opan5510-class9/refs/heads/main/data/HallOfFame.csv\", null_values='NA')\n"
      ]
    },
    {
      "cell_type": "markdown",
      "metadata": {
        "id": "M9wo7SwoyU1y"
      },
      "source": [
        "## Question 2: How many home runs (`HR`) were hit by players born in Florida?\n",
        "\n",
        "#### Part A: Join the `Batting` and `People` DataFrames together\n",
        "\n",
        "In order to answer this question, you'll need to use the `Batting` and `People` DataFrames. The `Batting` DataFrame has hitting statistics for every season that an individual player has played. The `People` DataFrame represents biographical data about every professional baseball player.\n",
        "\n",
        "Join the `People` DataFrame into the `Batting` DataFrame so that we can perform analysis on batting statistics using columns from the `People` DataFrame. Name the new DataFrame `stats_w_bio`.\n",
        "\n",
        "*Insert a code block that joins the `Batting` DataFrame to the `People` DataFrame.*"
      ]
    },
    {
      "cell_type": "code",
      "execution_count": 8,
      "metadata": {
        "id": "BOYs3snEyU1y",
        "colab": {
          "base_uri": "https://localhost:8080/",
          "height": 255
        },
        "outputId": "3e4e4b48-17e4-4668-f132-022469bcdea2"
      },
      "outputs": [
        {
          "output_type": "execute_result",
          "data": {
            "text/plain": [
              "shape: (5, 23)\n",
              "┌───────────┬────────┬───────┬────────┬───┬──────┬──────┬──────┬────────────┐\n",
              "│ playerID  ┆ yearID ┆ stint ┆ teamID ┆ … ┆ SH   ┆ SF   ┆ GIDP ┆ birthState │\n",
              "│ ---       ┆ ---    ┆ ---   ┆ ---    ┆   ┆ ---  ┆ ---  ┆ ---  ┆ ---        │\n",
              "│ str       ┆ i64    ┆ i64   ┆ str    ┆   ┆ str  ┆ str  ┆ i64  ┆ str        │\n",
              "╞═══════════╪════════╪═══════╪════════╪═══╪══════╪══════╪══════╪════════════╡\n",
              "│ abercda01 ┆ 1871   ┆ 1     ┆ TRO    ┆ … ┆ null ┆ null ┆ 0    ┆ OK         │\n",
              "│ addybo01  ┆ 1871   ┆ 1     ┆ RC1    ┆ … ┆ null ┆ null ┆ 0    ┆ ON         │\n",
              "│ allisar01 ┆ 1871   ┆ 1     ┆ CL1    ┆ … ┆ null ┆ null ┆ 1    ┆ PA         │\n",
              "│ allisdo01 ┆ 1871   ┆ 1     ┆ WS3    ┆ … ┆ null ┆ null ┆ 0    ┆ PA         │\n",
              "│ ansonca01 ┆ 1871   ┆ 1     ┆ RC1    ┆ … ┆ null ┆ null ┆ 0    ┆ IA         │\n",
              "└───────────┴────────┴───────┴────────┴───┴──────┴──────┴──────┴────────────┘"
            ],
            "text/html": [
              "<div><style>\n",
              ".dataframe > thead > tr,\n",
              ".dataframe > tbody > tr {\n",
              "  text-align: right;\n",
              "  white-space: pre-wrap;\n",
              "}\n",
              "</style>\n",
              "<small>shape: (5, 23)</small><table border=\"1\" class=\"dataframe\"><thead><tr><th>playerID</th><th>yearID</th><th>stint</th><th>teamID</th><th>lgID</th><th>G</th><th>AB</th><th>R</th><th>H</th><th>X2B</th><th>X3B</th><th>HR</th><th>RBI</th><th>SB</th><th>CS</th><th>BB</th><th>SO</th><th>IBB</th><th>HBP</th><th>SH</th><th>SF</th><th>GIDP</th><th>birthState</th></tr><tr><td>str</td><td>i64</td><td>i64</td><td>str</td><td>str</td><td>i64</td><td>i64</td><td>i64</td><td>i64</td><td>i64</td><td>i64</td><td>i64</td><td>i64</td><td>i64</td><td>i64</td><td>i64</td><td>i64</td><td>str</td><td>str</td><td>str</td><td>str</td><td>i64</td><td>str</td></tr></thead><tbody><tr><td>&quot;abercda01&quot;</td><td>1871</td><td>1</td><td>&quot;TRO&quot;</td><td>null</td><td>1</td><td>4</td><td>0</td><td>0</td><td>0</td><td>0</td><td>0</td><td>0</td><td>0</td><td>0</td><td>0</td><td>0</td><td>null</td><td>null</td><td>null</td><td>null</td><td>0</td><td>&quot;OK&quot;</td></tr><tr><td>&quot;addybo01&quot;</td><td>1871</td><td>1</td><td>&quot;RC1&quot;</td><td>null</td><td>25</td><td>118</td><td>30</td><td>32</td><td>6</td><td>0</td><td>0</td><td>13</td><td>8</td><td>1</td><td>4</td><td>0</td><td>null</td><td>null</td><td>null</td><td>null</td><td>0</td><td>&quot;ON&quot;</td></tr><tr><td>&quot;allisar01&quot;</td><td>1871</td><td>1</td><td>&quot;CL1&quot;</td><td>null</td><td>29</td><td>137</td><td>28</td><td>40</td><td>4</td><td>5</td><td>0</td><td>19</td><td>3</td><td>1</td><td>2</td><td>5</td><td>null</td><td>null</td><td>null</td><td>null</td><td>1</td><td>&quot;PA&quot;</td></tr><tr><td>&quot;allisdo01&quot;</td><td>1871</td><td>1</td><td>&quot;WS3&quot;</td><td>null</td><td>27</td><td>133</td><td>28</td><td>44</td><td>10</td><td>2</td><td>2</td><td>27</td><td>1</td><td>1</td><td>0</td><td>2</td><td>null</td><td>null</td><td>null</td><td>null</td><td>0</td><td>&quot;PA&quot;</td></tr><tr><td>&quot;ansonca01&quot;</td><td>1871</td><td>1</td><td>&quot;RC1&quot;</td><td>null</td><td>25</td><td>120</td><td>29</td><td>39</td><td>11</td><td>3</td><td>0</td><td>16</td><td>6</td><td>2</td><td>2</td><td>1</td><td>null</td><td>null</td><td>null</td><td>null</td><td>0</td><td>&quot;IA&quot;</td></tr></tbody></table></div>"
            ]
          },
          "metadata": {},
          "execution_count": 8
        }
      ],
      "source": [
        "# Join Batting and People DataFrames\n",
        "stats_w_bio = Batting.join(People.select([\"playerID\", \"birthState\"]), on=\"playerID\", how=\"left\")\n",
        "stats_w_bio.head()"
      ]
    },
    {
      "cell_type": "markdown",
      "metadata": {
        "id": "Pr63NEFcyU1y"
      },
      "source": [
        "#### Part B: Calculate the total number of home runs that were hit by Florida-born players\n",
        "\n",
        "You would like to perform an analysis about how many home runs (`HR`) were hit by players that were born in the `birthState` of Florida (`FL`). Using the new `stats_w_bio` DataFrame that combines batting statistics with biographical information, compute the total number of home runs (`HR`) hit by players who were born (`birthState`) in Florida (`FL`) and name the new column `total_hr`. The DataFrame should have one row and be named `florida_hr`.\n",
        "\n",
        "*Insert a block of code that shows the computation of total home runs hit by players born in Florida. The output of this code block should be a DataFrame.*"
      ]
    },
    {
      "cell_type": "code",
      "execution_count": 9,
      "metadata": {
        "id": "bBGsxFDUyU1y",
        "colab": {
          "base_uri": "https://localhost:8080/",
          "height": 129
        },
        "outputId": "1c5435f7-7911-412f-c2f2-cba79a40138c"
      },
      "outputs": [
        {
          "output_type": "execute_result",
          "data": {
            "text/plain": [
              "shape: (1, 1)\n",
              "┌──────────┐\n",
              "│ total_hr │\n",
              "│ ---      │\n",
              "│ i64      │\n",
              "╞══════════╡\n",
              "│ 16225    │\n",
              "└──────────┘"
            ],
            "text/html": [
              "<div><style>\n",
              ".dataframe > thead > tr,\n",
              ".dataframe > tbody > tr {\n",
              "  text-align: right;\n",
              "  white-space: pre-wrap;\n",
              "}\n",
              "</style>\n",
              "<small>shape: (1, 1)</small><table border=\"1\" class=\"dataframe\"><thead><tr><th>total_hr</th></tr><tr><td>i64</td></tr></thead><tbody><tr><td>16225</td></tr></tbody></table></div>"
            ]
          },
          "metadata": {},
          "execution_count": 9
        }
      ],
      "source": [
        "# Calculate total home runs by Florida-born players\n",
        "florida_hr = (\n",
        "    stats_w_bio\n",
        "    .filter(pl.col(\"birthState\") == \"FL\")\n",
        "    .select(pl.col(\"HR\").fill_null(0).sum().alias(\"total_hr\"))\n",
        ")\n",
        "\n",
        "florida_hr"
      ]
    },
    {
      "cell_type": "markdown",
      "metadata": {
        "id": "d5v5qjkayU1y"
      },
      "source": [
        "## Question 3: What are the average number of career Hits (`H`) for Hall of Fame baseball players?\n",
        "\n",
        "#### Part A: Clean the `HallOfFame` DataFrame\n",
        "\n",
        "You would like to perform an analysis on the batting statistics of Hall of Fame baseball players. In order to answer this question, you'll need to use the `Batting` and `HallOfFame` DataFrames.\n",
        "\n",
        "The first thing that you have to do to perform this analysis is to join the `HallOfFame` data into the `Batting` data to understand which players are \"Hall of Famers\". To join the data correctly, we have to ensure that the `playerID` field is unique in `HallOfFame`. Not every player in the `HallOfFame` DataFrame is a Hall of Famer; their `inducted` field must have the value of `Y` and their `category` field should have the value of `Player`. Name the new DataFrame `hall_inducted`.\n",
        "\n",
        "*Insert a code block to transform the `HallOfFame` DataFrame to ensure that `playerID` is unique.*"
      ]
    },
    {
      "cell_type": "code",
      "execution_count": 10,
      "metadata": {
        "id": "P0lc9qLPyU1y",
        "colab": {
          "base_uri": "https://localhost:8080/"
        },
        "outputId": "4825794b-c792-4fb9-ad41-0aa769316aa1"
      },
      "outputs": [
        {
          "output_type": "execute_result",
          "data": {
            "text/plain": [
              "(270,\n",
              " shape: (5, 1)\n",
              " ┌───────────┐\n",
              " │ playerID  │\n",
              " │ ---       │\n",
              " │ str       │\n",
              " ╞═══════════╡\n",
              " │ burkeje01 │\n",
              " │ wanerpa01 │\n",
              " │ whitede01 │\n",
              " │ mantlmi01 │\n",
              " │ wallabo01 │\n",
              " └───────────┘)"
            ]
          },
          "metadata": {},
          "execution_count": 10
        }
      ],
      "source": [
        "# Clean HallOfFame DataFrame\n",
        "hall_inducted = (\n",
        "    HallOfFame\n",
        "    .filter((pl.col(\"inducted\") == \"Y\") & (pl.col(\"category\") == \"Player\"))\n",
        "    .select(\"playerID\")\n",
        "    .unique()\n",
        ")\n",
        "\n",
        "hall_inducted.height, hall_inducted.head()"
      ]
    },
    {
      "cell_type": "markdown",
      "metadata": {
        "id": "A6z9HFdjyU1y"
      },
      "source": [
        "#### Part B: Find the average number of career hits across Hall of Fame players\n",
        "\n",
        "Join the `hall_inducted` data into the `Batting` data by `playerID`. Aggregate the data to compute the average total hits (`H`) across all Hall of Fame players. To do this, you will first need to calculate the total number of hits for each player and then calculate the average hits across all players. Call the new column `average_hits`. The resulting DataFrame should have one row and be named `hof_hits`.\n",
        "\n",
        "*Insert a code block that joins the `Batting` and the `hall_inducted` data together and then calculates the average number of career hits (`H`) across all Hall of Fame players. The output of this code block should be a DataFrame.*"
      ]
    },
    {
      "cell_type": "code",
      "execution_count": 11,
      "metadata": {
        "id": "JzWY4cVbyU1y",
        "colab": {
          "base_uri": "https://localhost:8080/",
          "height": 129
        },
        "outputId": "8042cdba-1fe2-4a7a-998a-b3f255c5749e"
      },
      "outputs": [
        {
          "output_type": "execute_result",
          "data": {
            "text/plain": [
              "shape: (1, 1)\n",
              "┌──────────────┐\n",
              "│ average_hits │\n",
              "│ ---          │\n",
              "│ f64          │\n",
              "╞══════════════╡\n",
              "│ 1717.29918   │\n",
              "└──────────────┘"
            ],
            "text/html": [
              "<div><style>\n",
              ".dataframe > thead > tr,\n",
              ".dataframe > tbody > tr {\n",
              "  text-align: right;\n",
              "  white-space: pre-wrap;\n",
              "}\n",
              "</style>\n",
              "<small>shape: (1, 1)</small><table border=\"1\" class=\"dataframe\"><thead><tr><th>average_hits</th></tr><tr><td>f64</td></tr></thead><tbody><tr><td>1717.29918</td></tr></tbody></table></div>"
            ]
          },
          "metadata": {},
          "execution_count": 11
        }
      ],
      "source": [
        "# Calculate average career hits for Hall of Fame players\n",
        "hof_hits = (\n",
        "    Batting\n",
        "    .join(hall_inducted, on=\"playerID\", how=\"inner\")\n",
        "    .group_by(\"playerID\")\n",
        "    .agg(pl.col(\"H\").fill_null(0).sum().alias(\"career_hits\"))\n",
        "    .select(pl.col(\"career_hits\").mean().alias(\"average_hits\"))\n",
        ")\n",
        "\n",
        "hof_hits"
      ]
    }
  ],
  "metadata": {
    "kernelspec": {
      "display_name": "Python 3",
      "language": "python",
      "name": "python3"
    },
    "language_info": {
      "codemirror_mode": {
        "name": "ipython",
        "version": 3
      },
      "file_extension": ".py",
      "mimetype": "text/x-python",
      "name": "python",
      "nbconvert_exporter": "python",
      "pygments_lexer": "ipython3",
      "version": "3.12.0"
    },
    "colab": {
      "provenance": []
    }
  },
  "nbformat": 4,
  "nbformat_minor": 0
}